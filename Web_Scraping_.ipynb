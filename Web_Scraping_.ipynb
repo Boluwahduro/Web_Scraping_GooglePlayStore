{
  "nbformat": 4,
  "nbformat_minor": 0,
  "metadata": {
    "colab": {
      "provenance": [],
      "authorship_tag": "ABX9TyPgEGxJuvh8X1QiDw/g9NFU",
      "include_colab_link": true
    },
    "kernelspec": {
      "name": "python3",
      "display_name": "Python 3"
    },
    "language_info": {
      "name": "python"
    }
  },
  "cells": [
    {
      "cell_type": "markdown",
      "metadata": {
        "id": "view-in-github",
        "colab_type": "text"
      },
      "source": [
        "<a href=\"https://colab.research.google.com/github/Boluwahduro/Web_Scraping_GooglePlayStore/blob/main/Web_Scraping_.ipynb\" target=\"_parent\"><img src=\"https://colab.research.google.com/assets/colab-badge.svg\" alt=\"Open In Colab\"/></a>"
      ]
    },
    {
      "cell_type": "markdown",
      "metadata": {
        "id": "85bcef93"
      },
      "source": [
        "## Web Scraping Google Play Store"
      ]
    },
    {
      "cell_type": "code",
      "execution_count": null,
      "metadata": {
        "id": "48b3e658"
      },
      "outputs": [],
      "source": [
        "#import necessary libaries\n",
        "\n",
        "from google_play_scraper import app\n",
        "from google_play_scraper import Sort, reviews_all\n",
        "from numpy.random import default_rng\n",
        "from time import sleep"
      ]
    },
    {
      "cell_type": "markdown",
      "metadata": {
        "id": "e1572cca"
      },
      "source": [
        "Using news reports, data was scraped for Spotify top global markets across North America, Latin America, Asia and Africa. Countries representing the continents are United States, Canada, United Kingdon, Ireland, Sweden, Mexico, Spain, Phillipines, India, Nigeria, South Africa, Ghana, and Kenya"
      ]
    },
    {
      "cell_type": "markdown",
      "metadata": {
        "id": "cdd787c7"
      },
      "source": [
        "### Google Play Store Web Scraping- Includes saving the scraped data if error encountred and catch all exceptions"
      ]
    },
    {
      "cell_type": "code",
      "execution_count": null,
      "metadata": {
        "id": "7b98c5f8",
        "scrolled": true
      },
      "outputs": [],
      "source": [
        "#fecth all reviews for the specified countries from google API\n",
        "\n",
        "def scrape_reviews(app_id, country_codes=['us', 'ca', 'uk', 'ie', 'se', 'mx', 'es', 'ph', 'id', 'ng', 'sa', 'gh','ke'], retries=3):\n",
        "    # Initialize a DataFrame to store all reviews\n",
        "    df_all = pd.DataFrame()\n",
        "\n",
        "    # Create random generator\n",
        "    rng = default_rng()\n",
        "\n",
        "    # Loop through all country codes and fetch reviews\n",
        "    for country in country_codes:\n",
        "        for _ in range(retries):\n",
        "            try:\n",
        "                # generates a scalar [single] value greater than or equal to 1 but less than 5\n",
        "                time_to_sleep = rng.uniform(1, 5)\n",
        "                sleep(time_to_sleep)  # Add delay between requests\n",
        "\n",
        "                result = reviews_all(\n",
        "                    app_id,\n",
        "                    sleep_milliseconds=0,  # 0 ms means no sleep.\n",
        "                    lang='en',  # Language is English\n",
        "                    country=country,  # Use current country\n",
        "                    sort=Sort.NEWEST,  # Sort by newest\n",
        "                )\n",
        "\n",
        "                # Convert the result to a DataFrame and add a country column\n",
        "                df = pd.DataFrame(result)\n",
        "                df['country'] = country\n",
        "\n",
        "                # Append the data to the master DataFrame\n",
        "                df_all = pd.concat([df_all, df])\n",
        "\n",
        "                # If my code runs to this point, it means I have successfully fetched the data, break the retry loop\n",
        "                break\n",
        "\n",
        "            except Exception as e:\n",
        "                print(f'Error occurred when fetching reviews for {app_id} in {country}. Retrying...')\n",
        "                print(f\"Exception details: {e}\")\n",
        "\n",
        "        # Save the scraped data to a CSV file after each country\n",
        "        df_all.to_csv('google_play_reviews.csv', index=False)\n",
        "\n",
        "    return df_all\n",
        "\n",
        "# Use the function\n",
        "df_ggps = scrape_reviews('com.spotify.music')"
      ]
    },
    {
      "cell_type": "code",
      "execution_count": null,
      "metadata": {
        "id": "8757874d"
      },
      "outputs": [],
      "source": [
        "#df_ggplay = pd.read_csv(r\"C:\\Users\\USER\\Documents\\UHull\\Research Project\\google_play_reviews.csv\") #read file using lab\n",
        "df_ggplay = pd.read_csv('/content/drive/My Drive/Project/google_play_reviews.csv') #using google colab"
      ]
    },
    {
      "cell_type": "code",
      "execution_count": null,
      "metadata": {
        "id": "5bcf212a"
      },
      "outputs": [],
      "source": [
        "# # Load data\n",
        "# #df = pd.read_csv(\"google_play_reviews.csv\")\n",
        "\n",
        "# # Convert 'at' column to datetime\n",
        "# df_ggplay['at'] = pd.to_datetime(df_ggplay['at'])\n",
        "\n",
        "# # Get the distribution of reviews by year\n",
        "# year_distribution = df_ggplay['at'].dt.year.value_counts()\n",
        "\n",
        "# # Print the distribution\n",
        "# print(year_distribution)\n"
      ]
    },
    {
      "cell_type": "code",
      "execution_count": null,
      "metadata": {
        "id": "583cace5",
        "colab": {
          "base_uri": "https://localhost:8080/"
        },
        "outputId": "b16e314b-7d69-4978-f67b-f1e79534a0d3"
      },
      "outputs": [
        {
          "output_type": "execute_result",
          "data": {
            "text/plain": [
              "reviewId                3444292\n",
              "userName                3444277\n",
              "userImage               3444292\n",
              "content                 3444292\n",
              "score                   3444292\n",
              "thumbsUpCount           3444292\n",
              "reviewCreatedVersion    3085965\n",
              "at                      3444292\n",
              "replyContent             209184\n",
              "repliedAt                209184\n",
              "appVersion              3085965\n",
              "country                 3444292\n",
              "dtype: int64"
            ]
          },
          "metadata": {},
          "execution_count": 8
        }
      ],
      "source": [
        "df_ggplay.count() #before filter"
      ]
    },
    {
      "cell_type": "code",
      "execution_count": null,
      "metadata": {
        "id": "eb8eba1e",
        "colab": {
          "base_uri": "https://localhost:8080/"
        },
        "outputId": "58220d3a-df2d-4bad-bdd5-e892b7c0a16b"
      },
      "outputs": [
        {
          "output_type": "stream",
          "name": "stdout",
          "text": [
            "Index(['reviewId', 'userName', 'userImage', 'content', 'score',\n",
            "       'thumbsUpCount', 'reviewCreatedVersion', 'at', 'replyContent',\n",
            "       'repliedAt', 'appVersion', 'country'],\n",
            "      dtype='object')\n"
          ]
        }
      ],
      "source": [
        "print(df_ggplay.columns) #display columns"
      ]
    },
    {
      "cell_type": "code",
      "execution_count": null,
      "metadata": {
        "id": "d3a4ea5a"
      },
      "outputs": [],
      "source": [
        "# Initialize the first chunk flag\n",
        "first_chunk = True\n",
        "\n",
        "# Initialize counters for the statistics\n",
        "total_rows = 0\n",
        "total_dup_content = 0\n",
        "total_rows_after_dropping = 0\n",
        "\n",
        "# Keep track of all unique pairs of 'userName' and 'content'\n",
        "unique_pairs = set()\n",
        "\n",
        "# Load the data in chunks and process each chunk\n",
        "chunksize = 10 ** 6  # adjusted this value based on system's memory\n",
        "for chunk in pd.read_csv(r\"C:\\Users\\USER\\Documents\\UHull\\Research Project\\google_play_reviews.csv\", chunksize=chunksize):\n",
        "    # Specify the columns to keep\n",
        "    chunk = chunk[['userName', 'at', 'content', 'appVersion', 'country']].copy()\n",
        "\n",
        "    # Convert 'at' column to datetime and filter rows where year is 2022 or later\n",
        "    chunk['at'] = pd.to_datetime(chunk['at'])\n",
        "    chunk = chunk[chunk['at'].dt.year >= 2022]\n",
        "\n",
        "    # Convert 'userName' and 'content' to lowercase\n",
        "    chunk['userName'] = chunk['userName'].str.lower()\n",
        "    chunk['content'] = chunk['content'].str.lower()\n",
        "\n",
        "    # Update total_rows counter\n",
        "    total_rows += chunk.shape[0]\n",
        "\n",
        "    # Update total_dup_content counter\n",
        "    total_dup_content += chunk.duplicated(subset=['userName', 'content']).sum()\n",
        "\n",
        "    # Keep only the rows where the pair of 'userName' and 'content' is not in unique_pairs\n",
        "    chunk = chunk[~chunk.apply(lambda row: (row['userName'], row['content']) in unique_pairs, axis=1)]\n",
        "\n",
        "    # Add the pairs of 'userName' and 'content' from this chunk to unique_pairs\n",
        "    unique_pairs.update(chunk.apply(lambda row: (row['userName'], row['content']), axis=1).tolist())\n",
        "\n",
        "    # Update total_rows_after_dropping counter\n",
        "    total_rows_after_dropping += chunk.shape[0]\n",
        "\n",
        "    # Add 'source' column and rename columns\n",
        "    chunk['source'] = 'GooglePlayStore'\n",
        "    chunk.columns = ['userName', 'date', 'review', 'appVersion', 'country', 'source']\n",
        "\n",
        "    # Save the chunk to a new CSV file, appending if it's not the first chunk\n",
        "    if first_chunk:\n",
        "        chunk.to_csv(r\"C:\\Users\\USER\\Documents\\UHull\\Research Project\\google_play_reviews_filtered.csv\", index=False)\n",
        "        first_chunk = False\n",
        "    else:\n",
        "        chunk.to_csv(r\"C:\\Users\\USER\\Documents\\UHull\\Research Project\\google_play_reviews_filtered.csv\", mode='a', header=False, index=False)\n",
        "\n",
        "# Print the initial number of rows, the number of duplicates in 'userName' and 'content', and the number of rows after dropping duplicates\n",
        "# print(\"Initial number of rows:\", total_rows)\n",
        "# print(\"Number of duplicate 'userName' and 'content':\", total_dup_content)\n",
        "# print(\"Number of rows after dropping duplicates:\", total_rows_after_dropping)\n"
      ]
    },
    {
      "cell_type": "code",
      "execution_count": null,
      "metadata": {
        "id": "a073c1f4",
        "colab": {
          "base_uri": "https://localhost:8080/"
        },
        "outputId": "8eaf4339-c3eb-4836-e152-a0432ecb66a5"
      },
      "outputs": [
        {
          "output_type": "stream",
          "name": "stdout",
          "text": [
            "235289\n"
          ]
        }
      ],
      "source": [
        "#Read in the filtered dataset 2022 to the latest date in 2023\n",
        "#df_ggplayf = pd.read_csv(r\"C:\\Users\\USER\\Documents\\UHull\\Research Project\\Data\\GooglePlayStore\\google_play_reviews_filtered.csv\")\n",
        "df_ggplayf = pd.read_csv('/content/drive/My Drive/Project/Data/GooglePlayStore/google_play_reviews_filtered.csv') #using google colab\n",
        "\n",
        "\n",
        "print(df_ggplayf.duplicated(subset=['userName', 'review']).sum())"
      ]
    },
    {
      "cell_type": "markdown",
      "metadata": {
        "id": "146c22c3"
      },
      "source": [
        "After performing chunk-wise duplicate removal process, there are still duplicates in the final DataFrame, df_ggplayf, when I load it into memory all at once. Attempted to load the chunks in batches previously.\n",
        "\n",
        "A 'userName' and 'review' pair that appears in two different chunks would be considered unique in each individual chunk and would not be dropped."
      ]
    },
    {
      "cell_type": "code",
      "execution_count": null,
      "metadata": {
        "id": "7e422756",
        "colab": {
          "base_uri": "https://localhost:8080/"
        },
        "outputId": "2d493a6d-b001-40d0-b24e-3ece6e3c9724"
      },
      "outputs": [
        {
          "output_type": "stream",
          "name": "stdout",
          "text": [
            "<class 'pandas.core.frame.DataFrame'>\n",
            "RangeIndex: 340974 entries, 0 to 340973\n",
            "Data columns (total 6 columns):\n",
            " #   Column      Non-Null Count   Dtype \n",
            "---  ------      --------------   ----- \n",
            " 0   userName    340968 non-null  object\n",
            " 1   date        340974 non-null  object\n",
            " 2   review      340974 non-null  object\n",
            " 3   appVersion  310514 non-null  object\n",
            " 4   country     340974 non-null  object\n",
            " 5   source      340974 non-null  object\n",
            "dtypes: object(6)\n",
            "memory usage: 15.6+ MB\n"
          ]
        }
      ],
      "source": [
        "df_ggplayf.count()\n",
        "df_ggplayf.info()"
      ]
    },
    {
      "cell_type": "code",
      "execution_count": null,
      "metadata": {
        "id": "90b40e07",
        "colab": {
          "base_uri": "https://localhost:8080/"
        },
        "outputId": "179d5970-7d73-457e-c348-663419b5e42b"
      },
      "outputs": [
        {
          "output_type": "stream",
          "name": "stdout",
          "text": [
            "Duplicates based on 'userName' and 'review' after dropping: 0\n",
            "Duplicates based on 'review' after dropping: 0\n"
          ]
        }
      ],
      "source": [
        "# Drop duplicates based on 'userName' and 'review'\n",
        "df_ggplayf.drop_duplicates(subset=['userName', 'review'], keep='first', inplace=True)\n",
        "\n",
        "# Check the number of duplicates again\n",
        "userName_review_dups_after = df_ggplayf.duplicated(subset=['userName', 'review']).sum()\n",
        "\n",
        "\n",
        "#Dropping all duplicates in reviews as there are different usernames with the same review from different countries and saving this to a new csv file\n",
        "#after dropping thwe duplicates- to be used for the sentiment analysis\n",
        "\n",
        "# Drop duplicates based on 'review' column\n",
        "df_ggplayf.drop_duplicates(subset=['review'], keep='first', inplace=True)\n",
        "\n",
        "# Check the number of duplicates again\n",
        "review_dups_after = df_ggplayf.duplicated(subset=['review']).sum()\n",
        "\n",
        "print(f\"Duplicates based on 'userName' and 'review' after dropping: {userName_review_dups_after}\")\n",
        "print(f\"Duplicates based on 'review' after dropping: {review_dups_after}\")\n"
      ]
    },
    {
      "cell_type": "code",
      "execution_count": null,
      "metadata": {
        "id": "4edece1a",
        "colab": {
          "base_uri": "https://localhost:8080/"
        },
        "outputId": "8ea7523e-9bb6-482f-e78e-30f9a3c2f712"
      },
      "outputs": [
        {
          "output_type": "execute_result",
          "data": {
            "text/plain": [
              "104298"
            ]
          },
          "metadata": {},
          "execution_count": 14
        }
      ],
      "source": [
        "# Check the number of rows left in the dataframe\n",
        "df_ggplayf.shape[0]"
      ]
    },
    {
      "cell_type": "code",
      "execution_count": null,
      "metadata": {
        "id": "00c0523c",
        "colab": {
          "base_uri": "https://localhost:8080/"
        },
        "outputId": "834fcbee-b038-40f7-f8c5-2f01aaab4705"
      },
      "outputs": [
        {
          "output_type": "execute_result",
          "data": {
            "text/plain": [
              "userName          2\n",
              "date              0\n",
              "review            0\n",
              "appVersion    10428\n",
              "country           0\n",
              "source            0\n",
              "dtype: int64"
            ]
          },
          "metadata": {},
          "execution_count": 15
        }
      ],
      "source": [
        "#check for missing values\n",
        "df_ggplayf.isnull().sum()"
      ]
    },
    {
      "cell_type": "code",
      "execution_count": null,
      "metadata": {
        "id": "4dcf3e3f"
      },
      "outputs": [],
      "source": [
        "# Set appVersion null to 'unknown'\n",
        "df_ggplayf['appVersion'] = df_ggplayf['appVersion'].fillna('unknown')\n",
        "\n",
        "# Change 'date' to datetime\n",
        "df_ggplayf['date'] = pd.to_datetime(df_ggplayf['date'])\n"
      ]
    },
    {
      "cell_type": "code",
      "execution_count": null,
      "metadata": {
        "id": "9001de19",
        "colab": {
          "base_uri": "https://localhost:8080/",
          "height": 112
        },
        "outputId": "418f7ead-27af-4428-f793-c72de35b224c"
      },
      "outputs": [
        {
          "output_type": "execute_result",
          "data": {
            "text/plain": [
              "           userName                date  \\\n",
              "0    jama bradfield 2023-06-28 01:13:53   \n",
              "1  night pantheress 2023-06-24 18:59:07   \n",
              "\n",
              "                                              review  appVersion country  \\\n",
              "0  stoppage issues. since the last update, i've h...  8.8.46.529      us   \n",
              "1  the new update makes it nearly impossible to e...  8.8.44.527      us   \n",
              "\n",
              "            source  \n",
              "0  GooglePlayStore  \n",
              "1  GooglePlayStore  "
            ],
            "text/html": [
              "\n",
              "  <div id=\"df-ac794ace-2f17-466e-b00d-194e323775f1\" class=\"colab-df-container\">\n",
              "    <div>\n",
              "<style scoped>\n",
              "    .dataframe tbody tr th:only-of-type {\n",
              "        vertical-align: middle;\n",
              "    }\n",
              "\n",
              "    .dataframe tbody tr th {\n",
              "        vertical-align: top;\n",
              "    }\n",
              "\n",
              "    .dataframe thead th {\n",
              "        text-align: right;\n",
              "    }\n",
              "</style>\n",
              "<table border=\"1\" class=\"dataframe\">\n",
              "  <thead>\n",
              "    <tr style=\"text-align: right;\">\n",
              "      <th></th>\n",
              "      <th>userName</th>\n",
              "      <th>date</th>\n",
              "      <th>review</th>\n",
              "      <th>appVersion</th>\n",
              "      <th>country</th>\n",
              "      <th>source</th>\n",
              "    </tr>\n",
              "  </thead>\n",
              "  <tbody>\n",
              "    <tr>\n",
              "      <th>0</th>\n",
              "      <td>jama bradfield</td>\n",
              "      <td>2023-06-28 01:13:53</td>\n",
              "      <td>stoppage issues. since the last update, i've h...</td>\n",
              "      <td>8.8.46.529</td>\n",
              "      <td>us</td>\n",
              "      <td>GooglePlayStore</td>\n",
              "    </tr>\n",
              "    <tr>\n",
              "      <th>1</th>\n",
              "      <td>night pantheress</td>\n",
              "      <td>2023-06-24 18:59:07</td>\n",
              "      <td>the new update makes it nearly impossible to e...</td>\n",
              "      <td>8.8.44.527</td>\n",
              "      <td>us</td>\n",
              "      <td>GooglePlayStore</td>\n",
              "    </tr>\n",
              "  </tbody>\n",
              "</table>\n",
              "</div>\n",
              "    <div class=\"colab-df-buttons\">\n",
              "\n",
              "  <div class=\"colab-df-container\">\n",
              "    <button class=\"colab-df-convert\" onclick=\"convertToInteractive('df-ac794ace-2f17-466e-b00d-194e323775f1')\"\n",
              "            title=\"Convert this dataframe to an interactive table.\"\n",
              "            style=\"display:none;\">\n",
              "\n",
              "  <svg xmlns=\"http://www.w3.org/2000/svg\" height=\"24px\" viewBox=\"0 -960 960 960\">\n",
              "    <path d=\"M120-120v-720h720v720H120Zm60-500h600v-160H180v160Zm220 220h160v-160H400v160Zm0 220h160v-160H400v160ZM180-400h160v-160H180v160Zm440 0h160v-160H620v160ZM180-180h160v-160H180v160Zm440 0h160v-160H620v160Z\"/>\n",
              "  </svg>\n",
              "    </button>\n",
              "\n",
              "  <style>\n",
              "    .colab-df-container {\n",
              "      display:flex;\n",
              "      gap: 12px;\n",
              "    }\n",
              "\n",
              "    .colab-df-convert {\n",
              "      background-color: #E8F0FE;\n",
              "      border: none;\n",
              "      border-radius: 50%;\n",
              "      cursor: pointer;\n",
              "      display: none;\n",
              "      fill: #1967D2;\n",
              "      height: 32px;\n",
              "      padding: 0 0 0 0;\n",
              "      width: 32px;\n",
              "    }\n",
              "\n",
              "    .colab-df-convert:hover {\n",
              "      background-color: #E2EBFA;\n",
              "      box-shadow: 0px 1px 2px rgba(60, 64, 67, 0.3), 0px 1px 3px 1px rgba(60, 64, 67, 0.15);\n",
              "      fill: #174EA6;\n",
              "    }\n",
              "\n",
              "    .colab-df-buttons div {\n",
              "      margin-bottom: 4px;\n",
              "    }\n",
              "\n",
              "    [theme=dark] .colab-df-convert {\n",
              "      background-color: #3B4455;\n",
              "      fill: #D2E3FC;\n",
              "    }\n",
              "\n",
              "    [theme=dark] .colab-df-convert:hover {\n",
              "      background-color: #434B5C;\n",
              "      box-shadow: 0px 1px 3px 1px rgba(0, 0, 0, 0.15);\n",
              "      filter: drop-shadow(0px 1px 2px rgba(0, 0, 0, 0.3));\n",
              "      fill: #FFFFFF;\n",
              "    }\n",
              "  </style>\n",
              "\n",
              "    <script>\n",
              "      const buttonEl =\n",
              "        document.querySelector('#df-ac794ace-2f17-466e-b00d-194e323775f1 button.colab-df-convert');\n",
              "      buttonEl.style.display =\n",
              "        google.colab.kernel.accessAllowed ? 'block' : 'none';\n",
              "\n",
              "      async function convertToInteractive(key) {\n",
              "        const element = document.querySelector('#df-ac794ace-2f17-466e-b00d-194e323775f1');\n",
              "        const dataTable =\n",
              "          await google.colab.kernel.invokeFunction('convertToInteractive',\n",
              "                                                    [key], {});\n",
              "        if (!dataTable) return;\n",
              "\n",
              "        const docLinkHtml = 'Like what you see? Visit the ' +\n",
              "          '<a target=\"_blank\" href=https://colab.research.google.com/notebooks/data_table.ipynb>data table notebook</a>'\n",
              "          + ' to learn more about interactive tables.';\n",
              "        element.innerHTML = '';\n",
              "        dataTable['output_type'] = 'display_data';\n",
              "        await google.colab.output.renderOutput(dataTable, element);\n",
              "        const docLink = document.createElement('div');\n",
              "        docLink.innerHTML = docLinkHtml;\n",
              "        element.appendChild(docLink);\n",
              "      }\n",
              "    </script>\n",
              "  </div>\n",
              "\n",
              "\n",
              "<div id=\"df-92d7e7c2-79da-473d-b201-ee36ee2a5560\">\n",
              "  <button class=\"colab-df-quickchart\" onclick=\"quickchart('df-92d7e7c2-79da-473d-b201-ee36ee2a5560')\"\n",
              "            title=\"Suggest charts.\"\n",
              "            style=\"display:none;\">\n",
              "\n",
              "<svg xmlns=\"http://www.w3.org/2000/svg\" height=\"24px\"viewBox=\"0 0 24 24\"\n",
              "     width=\"24px\">\n",
              "    <g>\n",
              "        <path d=\"M19 3H5c-1.1 0-2 .9-2 2v14c0 1.1.9 2 2 2h14c1.1 0 2-.9 2-2V5c0-1.1-.9-2-2-2zM9 17H7v-7h2v7zm4 0h-2V7h2v10zm4 0h-2v-4h2v4z\"/>\n",
              "    </g>\n",
              "</svg>\n",
              "  </button>\n",
              "\n",
              "<style>\n",
              "  .colab-df-quickchart {\n",
              "      --bg-color: #E8F0FE;\n",
              "      --fill-color: #1967D2;\n",
              "      --hover-bg-color: #E2EBFA;\n",
              "      --hover-fill-color: #174EA6;\n",
              "      --disabled-fill-color: #AAA;\n",
              "      --disabled-bg-color: #DDD;\n",
              "  }\n",
              "\n",
              "  [theme=dark] .colab-df-quickchart {\n",
              "      --bg-color: #3B4455;\n",
              "      --fill-color: #D2E3FC;\n",
              "      --hover-bg-color: #434B5C;\n",
              "      --hover-fill-color: #FFFFFF;\n",
              "      --disabled-bg-color: #3B4455;\n",
              "      --disabled-fill-color: #666;\n",
              "  }\n",
              "\n",
              "  .colab-df-quickchart {\n",
              "    background-color: var(--bg-color);\n",
              "    border: none;\n",
              "    border-radius: 50%;\n",
              "    cursor: pointer;\n",
              "    display: none;\n",
              "    fill: var(--fill-color);\n",
              "    height: 32px;\n",
              "    padding: 0;\n",
              "    width: 32px;\n",
              "  }\n",
              "\n",
              "  .colab-df-quickchart:hover {\n",
              "    background-color: var(--hover-bg-color);\n",
              "    box-shadow: 0 1px 2px rgba(60, 64, 67, 0.3), 0 1px 3px 1px rgba(60, 64, 67, 0.15);\n",
              "    fill: var(--button-hover-fill-color);\n",
              "  }\n",
              "\n",
              "  .colab-df-quickchart-complete:disabled,\n",
              "  .colab-df-quickchart-complete:disabled:hover {\n",
              "    background-color: var(--disabled-bg-color);\n",
              "    fill: var(--disabled-fill-color);\n",
              "    box-shadow: none;\n",
              "  }\n",
              "\n",
              "  .colab-df-spinner {\n",
              "    border: 2px solid var(--fill-color);\n",
              "    border-color: transparent;\n",
              "    border-bottom-color: var(--fill-color);\n",
              "    animation:\n",
              "      spin 1s steps(1) infinite;\n",
              "  }\n",
              "\n",
              "  @keyframes spin {\n",
              "    0% {\n",
              "      border-color: transparent;\n",
              "      border-bottom-color: var(--fill-color);\n",
              "      border-left-color: var(--fill-color);\n",
              "    }\n",
              "    20% {\n",
              "      border-color: transparent;\n",
              "      border-left-color: var(--fill-color);\n",
              "      border-top-color: var(--fill-color);\n",
              "    }\n",
              "    30% {\n",
              "      border-color: transparent;\n",
              "      border-left-color: var(--fill-color);\n",
              "      border-top-color: var(--fill-color);\n",
              "      border-right-color: var(--fill-color);\n",
              "    }\n",
              "    40% {\n",
              "      border-color: transparent;\n",
              "      border-right-color: var(--fill-color);\n",
              "      border-top-color: var(--fill-color);\n",
              "    }\n",
              "    60% {\n",
              "      border-color: transparent;\n",
              "      border-right-color: var(--fill-color);\n",
              "    }\n",
              "    80% {\n",
              "      border-color: transparent;\n",
              "      border-right-color: var(--fill-color);\n",
              "      border-bottom-color: var(--fill-color);\n",
              "    }\n",
              "    90% {\n",
              "      border-color: transparent;\n",
              "      border-bottom-color: var(--fill-color);\n",
              "    }\n",
              "  }\n",
              "</style>\n",
              "\n",
              "  <script>\n",
              "    async function quickchart(key) {\n",
              "      const quickchartButtonEl =\n",
              "        document.querySelector('#' + key + ' button');\n",
              "      quickchartButtonEl.disabled = true;  // To prevent multiple clicks.\n",
              "      quickchartButtonEl.classList.add('colab-df-spinner');\n",
              "      try {\n",
              "        const charts = await google.colab.kernel.invokeFunction(\n",
              "            'suggestCharts', [key], {});\n",
              "      } catch (error) {\n",
              "        console.error('Error during call to suggestCharts:', error);\n",
              "      }\n",
              "      quickchartButtonEl.classList.remove('colab-df-spinner');\n",
              "      quickchartButtonEl.classList.add('colab-df-quickchart-complete');\n",
              "    }\n",
              "    (() => {\n",
              "      let quickchartButtonEl =\n",
              "        document.querySelector('#df-92d7e7c2-79da-473d-b201-ee36ee2a5560 button');\n",
              "      quickchartButtonEl.style.display =\n",
              "        google.colab.kernel.accessAllowed ? 'block' : 'none';\n",
              "    })();\n",
              "  </script>\n",
              "</div>\n",
              "    </div>\n",
              "  </div>\n"
            ]
          },
          "metadata": {},
          "execution_count": 17
        }
      ],
      "source": [
        "df_ggplayf.head(2)"
      ]
    },
    {
      "cell_type": "code",
      "execution_count": null,
      "metadata": {
        "id": "19e8bc2d",
        "colab": {
          "base_uri": "https://localhost:8080/"
        },
        "outputId": "897edee5-feb7-4750-809e-e3d3e6edaba4"
      },
      "outputs": [
        {
          "output_type": "stream",
          "name": "stdout",
          "text": [
            "0\n",
            "0\n"
          ]
        }
      ],
      "source": [
        "# Check the number of duplicates again\n",
        "print(df_ggplayf.duplicated(subset=['userName', 'review']).sum())\n",
        "print(df_ggplayf.duplicated(subset=['review']).sum())"
      ]
    },
    {
      "cell_type": "code",
      "execution_count": null,
      "metadata": {
        "id": "92e13069"
      },
      "outputs": [],
      "source": [
        "# Drop 'userName' column\n",
        "df_ggplayf = df_ggplayf.drop(columns='userName')\n",
        "\n",
        "# Save the cleaned dataframe to a new CSV file\n",
        "df_ggplayf.to_csv('google_play_reviews22.csv', index=False)"
      ]
    },
    {
      "cell_type": "code",
      "execution_count": null,
      "metadata": {
        "id": "a82d0823",
        "colab": {
          "base_uri": "https://localhost:8080/"
        },
        "outputId": "bcb5f355-599b-42c5-801a-8e628422a975"
      },
      "outputs": [
        {
          "output_type": "stream",
          "name": "stdout",
          "text": [
            "Index(['date', 'review', 'appVersion', 'country', 'source'], dtype='object')\n"
          ]
        }
      ],
      "source": [
        "df_ggplayreview = pd.read_csv('google_play_reviews22.csv') #cleaned and final data from googleplaystore\n",
        "\n",
        "print(df_ggplayreview.columns)"
      ]
    },
    {
      "cell_type": "code",
      "execution_count": null,
      "metadata": {
        "id": "96d7d3ef",
        "colab": {
          "base_uri": "https://localhost:8080/"
        },
        "outputId": "91223d7d-0777-496b-8270-b8c7a3c07e7e"
      },
      "outputs": [
        {
          "output_type": "stream",
          "name": "stdout",
          "text": [
            "2022-01-01 00:13:00\n",
            "2023-07-04 16:18:38\n"
          ]
        }
      ],
      "source": [
        "print(df_ggplayreview['date'].min())\n",
        "print(df_ggplayreview['date'].max())"
      ]
    },
    {
      "cell_type": "code",
      "execution_count": null,
      "metadata": {
        "id": "dd337132",
        "colab": {
          "base_uri": "https://localhost:8080/",
          "height": 206
        },
        "outputId": "905c9f95-cece-4e19-ee1e-0d7dfc4b1e91"
      },
      "outputs": [
        {
          "output_type": "execute_result",
          "data": {
            "text/plain": [
              "                  date                                             review  \\\n",
              "0  2023-06-28 01:13:53  stoppage issues. since the last update, i've h...   \n",
              "1  2023-06-24 18:59:07  the new update makes it nearly impossible to e...   \n",
              "2  2023-06-25 19:12:44  it's the home page and the horrible playlists ...   \n",
              "3  2023-06-20 12:52:10  using spotify for tv very 1.76.1 which updated...   \n",
              "4  2023-06-24 10:45:51  i love spotify. it's a great app to listen to ...   \n",
              "\n",
              "   appVersion country           source  \n",
              "0  8.8.46.529      us  GooglePlayStore  \n",
              "1  8.8.44.527      us  GooglePlayStore  \n",
              "2  8.8.46.529      us  GooglePlayStore  \n",
              "3  8.8.44.527      us  GooglePlayStore  \n",
              "4  8.8.46.529      us  GooglePlayStore  "
            ],
            "text/html": [
              "\n",
              "  <div id=\"df-afd300ca-6dd7-44aa-8ed3-7b830cbea569\" class=\"colab-df-container\">\n",
              "    <div>\n",
              "<style scoped>\n",
              "    .dataframe tbody tr th:only-of-type {\n",
              "        vertical-align: middle;\n",
              "    }\n",
              "\n",
              "    .dataframe tbody tr th {\n",
              "        vertical-align: top;\n",
              "    }\n",
              "\n",
              "    .dataframe thead th {\n",
              "        text-align: right;\n",
              "    }\n",
              "</style>\n",
              "<table border=\"1\" class=\"dataframe\">\n",
              "  <thead>\n",
              "    <tr style=\"text-align: right;\">\n",
              "      <th></th>\n",
              "      <th>date</th>\n",
              "      <th>review</th>\n",
              "      <th>appVersion</th>\n",
              "      <th>country</th>\n",
              "      <th>source</th>\n",
              "    </tr>\n",
              "  </thead>\n",
              "  <tbody>\n",
              "    <tr>\n",
              "      <th>0</th>\n",
              "      <td>2023-06-28 01:13:53</td>\n",
              "      <td>stoppage issues. since the last update, i've h...</td>\n",
              "      <td>8.8.46.529</td>\n",
              "      <td>us</td>\n",
              "      <td>GooglePlayStore</td>\n",
              "    </tr>\n",
              "    <tr>\n",
              "      <th>1</th>\n",
              "      <td>2023-06-24 18:59:07</td>\n",
              "      <td>the new update makes it nearly impossible to e...</td>\n",
              "      <td>8.8.44.527</td>\n",
              "      <td>us</td>\n",
              "      <td>GooglePlayStore</td>\n",
              "    </tr>\n",
              "    <tr>\n",
              "      <th>2</th>\n",
              "      <td>2023-06-25 19:12:44</td>\n",
              "      <td>it's the home page and the horrible playlists ...</td>\n",
              "      <td>8.8.46.529</td>\n",
              "      <td>us</td>\n",
              "      <td>GooglePlayStore</td>\n",
              "    </tr>\n",
              "    <tr>\n",
              "      <th>3</th>\n",
              "      <td>2023-06-20 12:52:10</td>\n",
              "      <td>using spotify for tv very 1.76.1 which updated...</td>\n",
              "      <td>8.8.44.527</td>\n",
              "      <td>us</td>\n",
              "      <td>GooglePlayStore</td>\n",
              "    </tr>\n",
              "    <tr>\n",
              "      <th>4</th>\n",
              "      <td>2023-06-24 10:45:51</td>\n",
              "      <td>i love spotify. it's a great app to listen to ...</td>\n",
              "      <td>8.8.46.529</td>\n",
              "      <td>us</td>\n",
              "      <td>GooglePlayStore</td>\n",
              "    </tr>\n",
              "  </tbody>\n",
              "</table>\n",
              "</div>\n",
              "    <div class=\"colab-df-buttons\">\n",
              "\n",
              "  <div class=\"colab-df-container\">\n",
              "    <button class=\"colab-df-convert\" onclick=\"convertToInteractive('df-afd300ca-6dd7-44aa-8ed3-7b830cbea569')\"\n",
              "            title=\"Convert this dataframe to an interactive table.\"\n",
              "            style=\"display:none;\">\n",
              "\n",
              "  <svg xmlns=\"http://www.w3.org/2000/svg\" height=\"24px\" viewBox=\"0 -960 960 960\">\n",
              "    <path d=\"M120-120v-720h720v720H120Zm60-500h600v-160H180v160Zm220 220h160v-160H400v160Zm0 220h160v-160H400v160ZM180-400h160v-160H180v160Zm440 0h160v-160H620v160ZM180-180h160v-160H180v160Zm440 0h160v-160H620v160Z\"/>\n",
              "  </svg>\n",
              "    </button>\n",
              "\n",
              "  <style>\n",
              "    .colab-df-container {\n",
              "      display:flex;\n",
              "      gap: 12px;\n",
              "    }\n",
              "\n",
              "    .colab-df-convert {\n",
              "      background-color: #E8F0FE;\n",
              "      border: none;\n",
              "      border-radius: 50%;\n",
              "      cursor: pointer;\n",
              "      display: none;\n",
              "      fill: #1967D2;\n",
              "      height: 32px;\n",
              "      padding: 0 0 0 0;\n",
              "      width: 32px;\n",
              "    }\n",
              "\n",
              "    .colab-df-convert:hover {\n",
              "      background-color: #E2EBFA;\n",
              "      box-shadow: 0px 1px 2px rgba(60, 64, 67, 0.3), 0px 1px 3px 1px rgba(60, 64, 67, 0.15);\n",
              "      fill: #174EA6;\n",
              "    }\n",
              "\n",
              "    .colab-df-buttons div {\n",
              "      margin-bottom: 4px;\n",
              "    }\n",
              "\n",
              "    [theme=dark] .colab-df-convert {\n",
              "      background-color: #3B4455;\n",
              "      fill: #D2E3FC;\n",
              "    }\n",
              "\n",
              "    [theme=dark] .colab-df-convert:hover {\n",
              "      background-color: #434B5C;\n",
              "      box-shadow: 0px 1px 3px 1px rgba(0, 0, 0, 0.15);\n",
              "      filter: drop-shadow(0px 1px 2px rgba(0, 0, 0, 0.3));\n",
              "      fill: #FFFFFF;\n",
              "    }\n",
              "  </style>\n",
              "\n",
              "    <script>\n",
              "      const buttonEl =\n",
              "        document.querySelector('#df-afd300ca-6dd7-44aa-8ed3-7b830cbea569 button.colab-df-convert');\n",
              "      buttonEl.style.display =\n",
              "        google.colab.kernel.accessAllowed ? 'block' : 'none';\n",
              "\n",
              "      async function convertToInteractive(key) {\n",
              "        const element = document.querySelector('#df-afd300ca-6dd7-44aa-8ed3-7b830cbea569');\n",
              "        const dataTable =\n",
              "          await google.colab.kernel.invokeFunction('convertToInteractive',\n",
              "                                                    [key], {});\n",
              "        if (!dataTable) return;\n",
              "\n",
              "        const docLinkHtml = 'Like what you see? Visit the ' +\n",
              "          '<a target=\"_blank\" href=https://colab.research.google.com/notebooks/data_table.ipynb>data table notebook</a>'\n",
              "          + ' to learn more about interactive tables.';\n",
              "        element.innerHTML = '';\n",
              "        dataTable['output_type'] = 'display_data';\n",
              "        await google.colab.output.renderOutput(dataTable, element);\n",
              "        const docLink = document.createElement('div');\n",
              "        docLink.innerHTML = docLinkHtml;\n",
              "        element.appendChild(docLink);\n",
              "      }\n",
              "    </script>\n",
              "  </div>\n",
              "\n",
              "\n",
              "<div id=\"df-af622dda-fcc3-4306-b096-cc48be45f6d1\">\n",
              "  <button class=\"colab-df-quickchart\" onclick=\"quickchart('df-af622dda-fcc3-4306-b096-cc48be45f6d1')\"\n",
              "            title=\"Suggest charts.\"\n",
              "            style=\"display:none;\">\n",
              "\n",
              "<svg xmlns=\"http://www.w3.org/2000/svg\" height=\"24px\"viewBox=\"0 0 24 24\"\n",
              "     width=\"24px\">\n",
              "    <g>\n",
              "        <path d=\"M19 3H5c-1.1 0-2 .9-2 2v14c0 1.1.9 2 2 2h14c1.1 0 2-.9 2-2V5c0-1.1-.9-2-2-2zM9 17H7v-7h2v7zm4 0h-2V7h2v10zm4 0h-2v-4h2v4z\"/>\n",
              "    </g>\n",
              "</svg>\n",
              "  </button>\n",
              "\n",
              "<style>\n",
              "  .colab-df-quickchart {\n",
              "      --bg-color: #E8F0FE;\n",
              "      --fill-color: #1967D2;\n",
              "      --hover-bg-color: #E2EBFA;\n",
              "      --hover-fill-color: #174EA6;\n",
              "      --disabled-fill-color: #AAA;\n",
              "      --disabled-bg-color: #DDD;\n",
              "  }\n",
              "\n",
              "  [theme=dark] .colab-df-quickchart {\n",
              "      --bg-color: #3B4455;\n",
              "      --fill-color: #D2E3FC;\n",
              "      --hover-bg-color: #434B5C;\n",
              "      --hover-fill-color: #FFFFFF;\n",
              "      --disabled-bg-color: #3B4455;\n",
              "      --disabled-fill-color: #666;\n",
              "  }\n",
              "\n",
              "  .colab-df-quickchart {\n",
              "    background-color: var(--bg-color);\n",
              "    border: none;\n",
              "    border-radius: 50%;\n",
              "    cursor: pointer;\n",
              "    display: none;\n",
              "    fill: var(--fill-color);\n",
              "    height: 32px;\n",
              "    padding: 0;\n",
              "    width: 32px;\n",
              "  }\n",
              "\n",
              "  .colab-df-quickchart:hover {\n",
              "    background-color: var(--hover-bg-color);\n",
              "    box-shadow: 0 1px 2px rgba(60, 64, 67, 0.3), 0 1px 3px 1px rgba(60, 64, 67, 0.15);\n",
              "    fill: var(--button-hover-fill-color);\n",
              "  }\n",
              "\n",
              "  .colab-df-quickchart-complete:disabled,\n",
              "  .colab-df-quickchart-complete:disabled:hover {\n",
              "    background-color: var(--disabled-bg-color);\n",
              "    fill: var(--disabled-fill-color);\n",
              "    box-shadow: none;\n",
              "  }\n",
              "\n",
              "  .colab-df-spinner {\n",
              "    border: 2px solid var(--fill-color);\n",
              "    border-color: transparent;\n",
              "    border-bottom-color: var(--fill-color);\n",
              "    animation:\n",
              "      spin 1s steps(1) infinite;\n",
              "  }\n",
              "\n",
              "  @keyframes spin {\n",
              "    0% {\n",
              "      border-color: transparent;\n",
              "      border-bottom-color: var(--fill-color);\n",
              "      border-left-color: var(--fill-color);\n",
              "    }\n",
              "    20% {\n",
              "      border-color: transparent;\n",
              "      border-left-color: var(--fill-color);\n",
              "      border-top-color: var(--fill-color);\n",
              "    }\n",
              "    30% {\n",
              "      border-color: transparent;\n",
              "      border-left-color: var(--fill-color);\n",
              "      border-top-color: var(--fill-color);\n",
              "      border-right-color: var(--fill-color);\n",
              "    }\n",
              "    40% {\n",
              "      border-color: transparent;\n",
              "      border-right-color: var(--fill-color);\n",
              "      border-top-color: var(--fill-color);\n",
              "    }\n",
              "    60% {\n",
              "      border-color: transparent;\n",
              "      border-right-color: var(--fill-color);\n",
              "    }\n",
              "    80% {\n",
              "      border-color: transparent;\n",
              "      border-right-color: var(--fill-color);\n",
              "      border-bottom-color: var(--fill-color);\n",
              "    }\n",
              "    90% {\n",
              "      border-color: transparent;\n",
              "      border-bottom-color: var(--fill-color);\n",
              "    }\n",
              "  }\n",
              "</style>\n",
              "\n",
              "  <script>\n",
              "    async function quickchart(key) {\n",
              "      const quickchartButtonEl =\n",
              "        document.querySelector('#' + key + ' button');\n",
              "      quickchartButtonEl.disabled = true;  // To prevent multiple clicks.\n",
              "      quickchartButtonEl.classList.add('colab-df-spinner');\n",
              "      try {\n",
              "        const charts = await google.colab.kernel.invokeFunction(\n",
              "            'suggestCharts', [key], {});\n",
              "      } catch (error) {\n",
              "        console.error('Error during call to suggestCharts:', error);\n",
              "      }\n",
              "      quickchartButtonEl.classList.remove('colab-df-spinner');\n",
              "      quickchartButtonEl.classList.add('colab-df-quickchart-complete');\n",
              "    }\n",
              "    (() => {\n",
              "      let quickchartButtonEl =\n",
              "        document.querySelector('#df-af622dda-fcc3-4306-b096-cc48be45f6d1 button');\n",
              "      quickchartButtonEl.style.display =\n",
              "        google.colab.kernel.accessAllowed ? 'block' : 'none';\n",
              "    })();\n",
              "  </script>\n",
              "</div>\n",
              "    </div>\n",
              "  </div>\n"
            ]
          },
          "metadata": {},
          "execution_count": 23
        }
      ],
      "source": [
        "df_ggplayreview.head(5)"
      ]
    }
  ]
}